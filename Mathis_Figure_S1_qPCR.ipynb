{
 "cells": [
  {
   "cell_type": "markdown",
   "metadata": {},
   "source": [
    "# Calculating mRNA level following CRISPRi using qPCR - Fig S1\n",
    "\n",
    "This code takes raw qPCR data and converts it to relative mRNA expression level for any gene of interest. This data was gathered by growing cells expressing a single sgRNA in M9 + ATc for 5.5 hours and then isolating cellular mRNA. Also, when growth rate data is provided, can correlate mRNA concentration to growth rate. Imperfect correlations could illuminate the expression-to-growth rate transformation that takes place for each of these genes, which is a major benefit of using titrated CRISPRi.\n",
    "\n",
    "Written by Ryan Otto \n",
    "\n",
    "Last edited 8 July 2020"
   ]
  },
  {
   "cell_type": "markdown",
   "metadata": {},
   "source": [
    "## Import useful libraries"
   ]
  },
  {
   "cell_type": "code",
   "execution_count": 1,
   "metadata": {},
   "outputs": [],
   "source": [
    "import pickle # Moving data\n",
    "import numpy as np # Data organization\n",
    "import pandas as pd # Data organization\n",
    "import math # Calculating square roots and powers\n",
    "from scipy import stats # Calculating linear regression and sem\n",
    "import matplotlib.pyplot as plt # Plotting function\n",
    "# Renders figures in notebook\n",
    "%matplotlib inline"
   ]
  },
  {
   "cell_type": "markdown",
   "metadata": {},
   "source": [
    "## Establish paths and variables unique to this analysis"
   ]
  },
  {
   "cell_type": "code",
   "execution_count": 2,
   "metadata": {},
   "outputs": [],
   "source": [
    "input_path = 'inputs/' # General path for input files\n",
    "figure_path = 'Figures/' # General path for saving figures\n",
    "df_path = 'outputs/' # General path for data frames\n",
    "growth_path = 'inputs/20200509_turb_pilot.csv' # Path for growth rate data frame\n",
    "\n",
    "# List of all input files containing qPCR data\n",
    "file_list = ['20190808_luna_rtqpcr_quant.csv', '20200212_luna_rtqpcr_quant.csv', '20200221_luna_rtqpcr_quant.csv']\n",
    "# List of all genes to be analyzed\n",
    "gene_list = ['dapA', 'dapB', 'serC', 'purC']\n",
    "# Ordered list of mismatches, ending with the negative control (no knockdown)\n",
    "guide_MM = ['0', '2', '3', '4', '5', '6', '7', '8', '9', '10', '11', '12', 'negC']\n",
    "\n",
    "date = '20200923' # Date for output files"
   ]
  },
  {
   "cell_type": "markdown",
   "metadata": {},
   "source": [
    "## Import data"
   ]
  },
  {
   "cell_type": "code",
   "execution_count": 3,
   "metadata": {},
   "outputs": [],
   "source": [
    "cq_dict = {}\n",
    "for gene in gene_list:\n",
    "    cq_dict[gene] = {}\n",
    "cq_dict['hcaT'] = {}\n",
    "for gene in gene_list:\n",
    "    for num in guide_MM:\n",
    "        cq_dict[gene][gene + '_' + num] = []\n",
    "        cq_dict['hcaT'][gene + '_' + num] = []\n",
    "for file_name in file_list:\n",
    "    with open(input_path + file_name, 'r') as f:\n",
    "        first_line = f.readline()\n",
    "        for line in f:\n",
    "            sp = line.split(',')\n",
    "            if sp[2] != '' and sp[5] != '':\n",
    "                cq_dict[sp[2]][sp[4]].append(float(sp[5]))\n",
    "\n",
    "# Import and format growth rate data\n",
    "df_turb_growth = pd.read_csv(growth_path, index_col=0, parse_dates=True)\n",
    "df_turb_growth.drop('std', axis=1)\n",
    "df_turb_growth['sem'] = df_turb_growth.sem(axis=1)\n",
    "\n",
    "# Isolate growth rate data for each gene\n",
    "turb_dict = {}\n",
    "turb_dict['purC'] = df_turb_growth[36:48]\n",
    "turb_dict['dapA'] = df_turb_growth[:12]\n",
    "turb_dict['dapB'] = df_turb_growth[12:23]\n",
    "turb_dict['serC'] = df_turb_growth[72:]"
   ]
  },
  {
   "cell_type": "markdown",
   "metadata": {},
   "source": [
    "## qPCR Data Analysis\n",
    "\n",
    "Takes triplicate measurements of sgRNA abundance and normalizes by a reference gene (hcaT). Uses a non-targeting negC sgRNA to calculate relative expression level following knockdown."
   ]
  },
  {
   "cell_type": "code",
   "execution_count": 4,
   "metadata": {},
   "outputs": [],
   "source": [
    "# Isolate raw Cq values\n",
    "cq_raw_dict = {}\n",
    "for gene in gene_list:\n",
    "    cq_raw_dict[gene] = [0] * len(guide_MM)\n",
    "    cq_raw_dict['hcaT_' + gene] = [0] * len(guide_MM)\n",
    "\n",
    "    for i, num in enumerate(guide_MM):\n",
    "        cq_raw_dict[gene][i] = cq_dict[gene][gene + '_' + num]\n",
    "        cq_raw_dict['hcaT_' + gene][i] = cq_dict['hcaT'][gene + '_' + num]"
   ]
  },
  {
   "cell_type": "code",
   "execution_count": 5,
   "metadata": {},
   "outputs": [
    {
     "name": "stderr",
     "output_type": "stream",
     "text": [
      "/Users/rotto/anaconda2/lib/python2.7/site-packages/numpy/core/fromnumeric.py:3118: RuntimeWarning: Mean of empty slice.\n",
      "  out=out, **kwargs)\n",
      "/Users/rotto/anaconda2/lib/python2.7/site-packages/numpy/core/_methods.py:85: RuntimeWarning: invalid value encountered in double_scalars\n",
      "  ret = ret.dtype.type(ret / rcount)\n",
      "/Users/rotto/anaconda2/lib/python2.7/site-packages/numpy/core/_methods.py:140: RuntimeWarning: Degrees of freedom <= 0 for slice\n",
      "  keepdims=keepdims)\n",
      "/Users/rotto/anaconda2/lib/python2.7/site-packages/numpy/core/_methods.py:110: RuntimeWarning: invalid value encountered in true_divide\n",
      "  arrmean, rcount, out=arrmean, casting='unsafe', subok=False)\n",
      "/Users/rotto/anaconda2/lib/python2.7/site-packages/numpy/core/_methods.py:132: RuntimeWarning: invalid value encountered in double_scalars\n",
      "  ret = ret.dtype.type(ret / rcount)\n"
     ]
    }
   ],
   "source": [
    "# Normalize Cq values to calculate linearized relative RNA abundances\n",
    "cq_mean_dict = {}\n",
    "cq_sem_dict = {}\n",
    "d_cq_mean_dict = {}\n",
    "d_cq_sem_dict = {}\n",
    "dd_cq_mean_dict = {}\n",
    "dd_cq_sem_dict = {}\n",
    "dd_cq_mean_lin_dict = {}\n",
    "dd_cq_sem_lin_dict = {}\n",
    "\n",
    "for gene in gene_list:\n",
    "    # Calculate means for gene of interest and corresponding hcaT abundance\n",
    "    cq_mean_dict[gene] = [np.mean(x) for x in cq_raw_dict[gene]]\n",
    "    cq_sem_dict[gene] = [stats.sem(x) for x in cq_raw_dict[gene]]\n",
    "    cq_mean_dict['hcaT_' + gene] = [np.mean(x) for x in cq_raw_dict['hcaT_' + gene]]\n",
    "    cq_sem_dict['hcaT_' + gene] = [stats.sem(x) for x in cq_raw_dict['hcaT_' + gene]]\n",
    "    # Normalize by hcaT abundance\n",
    "    d_cq_mean_dict[gene] = [x - y for x, y in zip(cq_mean_dict['hcaT_' + gene], cq_mean_dict[gene])]\n",
    "    d_cq_sem_dict[gene] = [math.sqrt(x**2 + y**2) for x, y in zip(cq_sem_dict['hcaT_' + gene], cq_sem_dict[gene])]\n",
    "    # Normalize by abundance in presence of negC sgRNA\n",
    "    dd_cq_mean_dict[gene] = [x - d_cq_mean_dict[gene][-1] for x in d_cq_mean_dict[gene]]\n",
    "    dd_cq_sem_dict[gene] = [math.sqrt(x**2 + d_cq_sem_dict[gene][-1]**2) for x in d_cq_sem_dict[gene]]\n",
    "    # Take off of log2 scale\n",
    "    dd_cq_mean_lin_dict[gene] = [math.pow(2, x) for x in dd_cq_mean_dict[gene]]\n",
    "    dd_cq_sem_lin_dict[gene] = [x * y * np.log(2) for x, y in zip(dd_cq_sem_dict[gene], dd_cq_mean_lin_dict[gene])]"
   ]
  },
  {
   "cell_type": "markdown",
   "metadata": {},
   "source": [
    "## qPCR Data Visualization and Growth Rate Correlation"
   ]
  },
  {
   "cell_type": "code",
   "execution_count": 6,
   "metadata": {},
   "outputs": [
    {
     "data": {
      "image/png": "[encoded data removed]",
      "text/plain": [
       "<Figure size 230.4x216 with 1 Axes>"
      ]
     },
     "metadata": {
      "needs_background": "light"
     },
     "output_type": "display_data"
    },
    {
     "data": {
      "image/png": "[encoded data removed]",
      "text/plain": [
       "<Figure size 230.4x216 with 1 Axes>"
      ]
     },
     "metadata": {
      "needs_background": "light"
     },
     "output_type": "display_data"
    }
   ],
   "source": [
    "# Figures S1A and S1E\n",
    "gene = 'dapA'\n",
    "# Pull data only for guides with qPCR and growth rate data\n",
    "data = dd_cq_mean_lin_dict[gene][:-1]\n",
    "data_err = dd_cq_sem_lin_dict[gene][:-1]\n",
    "tick_label = guide_MM[:-1]\n",
    "index = np.arange(len(data))\n",
    "\n",
    "plt.figure(figsize=(3.2, 3.0))\n",
    "plt.bar(index, data, yerr=data_err, color='k', ecolor='k', capsize=3, lw= 0.5)\n",
    "plt.xticks(index, tick_label)\n",
    "plt.title(gene)\n",
    "ax = plt.gca()\n",
    "ax.spines['top'].set_visible(False)\n",
    "ax.spines['right'].set_visible(False)\n",
    "plt.tight_layout()\n",
    "plt.savefig(figure_path + date + '_qPCR_bar_' + gene + '_FigS1A.pdf', transparent=True)\n",
    "plt.show()\n",
    "\n",
    "\n",
    "plt.figure(figsize=(3.2, 3.0))\n",
    "for i, num in enumerate(guide_MM[:-1]):\n",
    "    if num not in tick_label:\n",
    "        continue\n",
    "    elif len(num) == 1:\n",
    "        turb_growth = turb_dict[gene]['mean'].filter(like='0' + num, axis=0)\n",
    "        turb_sem = turb_dict[gene]['sem'].filter(like='0' + num, axis=0)\n",
    "    else:\n",
    "        turb_growth = turb_dict[gene]['mean'].filter(like=num, axis=0)\n",
    "        turb_sem = turb_dict[gene]['sem'].filter(like=num, axis=0) \n",
    "\n",
    "    plt.errorbar(dd_cq_mean_lin_dict[gene][i], turb_growth, xerr=dd_cq_sem_lin_dict[gene][i], yerr=turb_sem, \n",
    "                 fmt='o', color='k')\n",
    "\n",
    "plt.xlim([0, 1.5])\n",
    "ax = plt.gca()\n",
    "ax.spines['top'].set_visible(False)\n",
    "ax.spines['right'].set_visible(False)\n",
    "plt.yticks([-0.5, -0.25, 0])\n",
    "plt.title(gene)\n",
    "plt.savefig(figure_path + date + '_qPCR_Corr_' + gene + '_FigS1E.pdf', transparent=True)\n",
    "plt.show()"
   ]
  },
  {
   "cell_type": "code",
   "execution_count": 7,
   "metadata": {},
   "outputs": [
    {
     "data": {
      "image/png": "[encoded data removed]",
      "text/plain": [
       "<Figure size 230.4x216 with 1 Axes>"
      ]
     },
     "metadata": {
      "needs_background": "light"
     },
     "output_type": "display_data"
    },
    {
     "data": {
      "image/png": "[encoded data removed]",
      "text/plain": [
       "<Figure size 230.4x216 with 1 Axes>"
      ]
     },
     "metadata": {
      "needs_background": "light"
     },
     "output_type": "display_data"
    }
   ],
   "source": [
    "# Figures S1B and S1F\n",
    "gene = 'dapB'\n",
    "# Pull data only for guides with qPCR and growth rate data\n",
    "data = np.concatenate((dd_cq_mean_lin_dict[gene][0:8], dd_cq_mean_lin_dict[gene][9:-1]))\n",
    "data_err = np.concatenate((dd_cq_sem_lin_dict[gene][0:8], dd_cq_sem_lin_dict[gene][9:-1]))\n",
    "tick_label = np.concatenate((guide_MM[0:8], guide_MM[9:-1]))\n",
    "index = np.arange(len(data))\n",
    "\n",
    "plt.figure(figsize=(3.2, 3.0))\n",
    "plt.bar(index, data, yerr=data_err, color='k', ecolor='k', capsize=3, lw=0.5)\n",
    "plt.xticks(index, tick_label)\n",
    "plt.yscale('log')\n",
    "plt.title(gene)\n",
    "ax = plt.gca()\n",
    "ax.spines['top'].set_visible(False)\n",
    "ax.spines['right'].set_visible(False)\n",
    "plt.tight_layout()\n",
    "plt.savefig(figure_path + date + '_qPCR_bar_' + gene + '_FigS1B.pdf', transparent=True)\n",
    "plt.show()\n",
    "\n",
    "plt.figure(figsize=(3.2, 3.0))\n",
    "for i, num in enumerate(guide_MM[:-1]):\n",
    "    if num not in tick_label:\n",
    "        continue\n",
    "    elif len(num) == 1:\n",
    "        turb_growth = turb_dict[gene]['mean'].filter(like='0' + num, axis=0)\n",
    "        turb_sem = turb_dict[gene]['sem'].filter(like='0' + num, axis=0)\n",
    "    else:\n",
    "        turb_growth = turb_dict[gene]['mean'].filter(like=num, axis=0)\n",
    "        turb_sem = turb_dict[gene]['sem'].filter(like=num, axis=0) \n",
    "    plt.errorbar(dd_cq_mean_lin_dict[gene][i], turb_growth, xerr=dd_cq_sem_lin_dict[gene][i], yerr=turb_sem, \n",
    "                     fmt='o', color='k')\n",
    "plt.xscale('log')\n",
    "ax = plt.gca()\n",
    "ax.spines['top'].set_visible(False)\n",
    "ax.spines['right'].set_visible(False)\n",
    "plt.yticks([-0.7, -0.4, -0.1])\n",
    "plt.title(gene)\n",
    "plt.savefig(figure_path + date + '_qPCR_Corr_' + gene + '_FigS1F.pdf', transparent=True)\n",
    "plt.show()"
   ]
  },
  {
   "cell_type": "code",
   "execution_count": 8,
   "metadata": {},
   "outputs": [
    {
     "data": {
      "image/png": "[encoded data removed]",
      "text/plain": [
       "<Figure size 230.4x216 with 1 Axes>"
      ]
     },
     "metadata": {
      "needs_background": "light"
     },
     "output_type": "display_data"
    },
    {
     "data": {
      "image/png": "[encoded data removed]",
      "text/plain": [
       "<Figure size 230.4x216 with 1 Axes>"
      ]
     },
     "metadata": {
      "needs_background": "light"
     },
     "output_type": "display_data"
    }
   ],
   "source": [
    "# Figures S1C and S1G\n",
    "gene = 'serC'\n",
    "# Pull data only for guides with qPCR and growth rate data\n",
    "data = np.concatenate((dd_cq_mean_lin_dict[gene][0:3], dd_cq_mean_lin_dict[gene][4:-1]))\n",
    "data_err = np.concatenate((dd_cq_sem_lin_dict[gene][0:3], dd_cq_sem_lin_dict[gene][4:-1]))\n",
    "tick_label = np.concatenate((guide_MM[0:3], guide_MM[4:-1]))\n",
    "index = np.arange(len(data))\n",
    "\n",
    "plt.figure(figsize=(3.2, 3.0))\n",
    "plt.bar(index, data, yerr=data_err, color='k', ecolor='k', capsize=3, lw=0.5)\n",
    "plt.xticks(index, tick_label)\n",
    "plt.yscale('log')\n",
    "plt.title(gene)\n",
    "ax = plt.gca()\n",
    "ax.spines['top'].set_visible(False)\n",
    "ax.spines['right'].set_visible(False)\n",
    "plt.tight_layout()\n",
    "plt.savefig(figure_path + date + '_qPCR_bar_' + gene + '_FigS1C.pdf', transparent=True)\n",
    "plt.show()\n",
    "\n",
    "plt.figure(figsize=(3.2, 3.0))\n",
    "for i, num in enumerate(guide_MM[:-1]):\n",
    "    if num not in tick_label:\n",
    "        continue\n",
    "    elif len(num) == 1:\n",
    "        turb_growth = turb_dict[gene]['mean'].filter(like='0' + num, axis=0)\n",
    "        turb_sem = turb_dict[gene]['sem'].filter(like='0' + num, axis=0)\n",
    "    else:\n",
    "        turb_growth = turb_dict[gene]['mean'].filter(like=num, axis=0)\n",
    "        turb_sem = turb_dict[gene]['sem'].filter(like=num, axis=0) \n",
    "\n",
    "    plt.errorbar(dd_cq_mean_lin_dict[gene][i], turb_growth, xerr=dd_cq_sem_lin_dict[gene][i], yerr=turb_sem, \n",
    "                 fmt='o', color='k')\n",
    "\n",
    "plt.xscale('log')\n",
    "ax = plt.gca()\n",
    "ax.spines['top'].set_visible(False)\n",
    "ax.spines['right'].set_visible(False)\n",
    "plt.yticks([-0.8, -0.4, 0])\n",
    "plt.title(gene)\n",
    "plt.savefig(figure_path + date + '_qPCR_Corr_' + gene + '_FigS1G.pdf', transparent=True)\n",
    "plt.show()"
   ]
  },
  {
   "cell_type": "code",
   "execution_count": 9,
   "metadata": {},
   "outputs": [
    {
     "data": {
      "image/png": "[encoded data removed]",
      "text/plain": [
       "<Figure size 230.4x216 with 1 Axes>"
      ]
     },
     "metadata": {
      "needs_background": "light"
     },
     "output_type": "display_data"
    },
    {
     "data": {
      "image/png": "[encoded data removed]",
      "text/plain": [
       "<Figure size 230.4x216 with 1 Axes>"
      ]
     },
     "metadata": {
      "needs_background": "light"
     },
     "output_type": "display_data"
    }
   ],
   "source": [
    "# Figures S1D and S1H\n",
    "gene = 'purC'\n",
    "# Pull data only for guides with qPCR and growth rate data\n",
    "data = np.concatenate((dd_cq_mean_lin_dict[gene][0:3], dd_cq_mean_lin_dict[gene][4:5], \n",
    "                       dd_cq_mean_lin_dict[gene][6:10], dd_cq_mean_lin_dict[gene][11:-1]))\n",
    "data_err = np.concatenate((dd_cq_sem_lin_dict[gene][0:3], dd_cq_sem_lin_dict[gene][4:5], \n",
    "                           dd_cq_sem_lin_dict[gene][6:10], dd_cq_sem_lin_dict[gene][11:-1]))\n",
    "tick_label = np.concatenate((guide_MM[0:3], guide_MM[4:5], guide_MM[6:10], guide_MM[11:-1]))\n",
    "index = np.arange(len(data))\n",
    "\n",
    "plt.figure(figsize=(3.2, 3.0))\n",
    "plt.bar(index, data, yerr=data_err, color='k', ecolor='k', capsize=3, lw=0.5)\n",
    "plt.xticks(index, tick_label)\n",
    "plt.title(gene)\n",
    "ax = plt.gca()\n",
    "ax.spines['top'].set_visible(False)\n",
    "ax.spines['right'].set_visible(False)\n",
    "plt.tight_layout()\n",
    "plt.savefig(figure_path + date + '_qPCR_bar_' + gene + '_FigS1D.pdf', transparent=True)\n",
    "plt.show()\n",
    "\n",
    "plt.figure(figsize=(3.2, 3.0))\n",
    "for i, num in enumerate(guide_MM[:-1]):\n",
    "    if num not in tick_label:\n",
    "        continue\n",
    "    elif len(num) == 1:\n",
    "        turb_growth = turb_dict[gene]['mean'].filter(like='0' + num, axis=0)\n",
    "        turb_sem = turb_dict[gene]['sem'].filter(like='0' + num, axis=0)\n",
    "    else:\n",
    "        turb_growth = turb_dict[gene]['mean'].filter(like=num, axis=0)\n",
    "        turb_sem = turb_dict[gene]['sem'].filter(like=num, axis=0) \n",
    "\n",
    "    plt.errorbar(dd_cq_mean_lin_dict[gene][i], turb_growth, xerr=dd_cq_sem_lin_dict[gene][i], yerr=turb_sem, \n",
    "                 fmt='o', color='k')\n",
    "\n",
    "ax = plt.gca()\n",
    "ax.spines['top'].set_visible(False)\n",
    "ax.spines['right'].set_visible(False)\n",
    "plt.yticks([-0.8, -0.4, 0])\n",
    "plt.title(gene)\n",
    "plt.savefig(figure_path + date + '_qPCR_Corr_' + gene + '_FigS1H.pdf', transparent=True)\n",
    "plt.show()"
   ]
  },
  {
   "cell_type": "code",
   "execution_count": null,
   "metadata": {},
   "outputs": [],
   "source": []
  }
 ],
 "metadata": {
  "kernelspec": {
   "display_name": "Python 2",
   "language": "python",
   "name": "python2"
  },
  "language_info": {
   "codemirror_mode": {
    "name": "ipython",
    "version": 2
   },
   "file_extension": ".py",
   "mimetype": "text/x-python",
   "name": "python",
   "nbconvert_exporter": "python",
   "pygments_lexer": "ipython2",
   "version": "2.7.15"
  }
 },
 "nbformat": 4,
 "nbformat_minor": 2
}
