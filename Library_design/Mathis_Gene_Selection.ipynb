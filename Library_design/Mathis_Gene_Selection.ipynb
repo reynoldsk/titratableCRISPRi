{
 "cells": [
  {
   "cell_type": "markdown",
   "metadata": {},
   "source": [
    "#  Selecting genes for CRISPRi single knockdown libraries\n",
    "\n",
    "\n",
    "## Goal:  To select a set of single gene knockdown to test high density. With 68 sgRNA's per gene we can select ~88 genes for analysis on a hiSeq lane with ~350 million reads.\n",
    "\n",
    "### Filtering levels\n",
    "1.  Gene must have YFP fusion for quantitation.\n",
    "2.  Gene must have estimate copies per cell to test how copy number might influence titration amount. (Aebersold database has almost every single gene, so not much bottleneck at this step).\n",
    "3.  Gene must be found in NC_000913.csv, which contains ontology, location on chromosome, etc.\n",
    "4.  Gene must be found in Keio_Essential_edit.csv.  This sheet includes genes that could not be knocked out, so we can have an idea what a complete knockdown should look like.\n",
    "\n",
    "Additionally, glycolysis and folate metabolism genes that do not meet these criteria were included.\n",
    "\n",
    "## IMPORTANT:  There is random gene selection in this notebook, so the same set of genes won't be selected everytime.  Please see files in inputs folder for genes selected in CRISPRi titration experiment.\n",
    "\n",
    "Written by Andrew Mathis\n",
    "\n",
    "Updated 8 July 2020"
   ]
  },
  {
   "cell_type": "markdown",
   "metadata": {},
   "source": [
    "## Import useful libraries"
   ]
  },
  {
   "cell_type": "code",
   "execution_count": 1,
   "metadata": {},
   "outputs": [],
   "source": [
    "import random # Random sampling\n",
    "import pandas as pd # Data organization\n",
    "import numpy as np # Data organization\n",
    "import matplotlib.pyplot as plt # Plotting function\n",
    "# Renders figures in notebook\n",
    "%matplotlib inline"
   ]
  },
  {
   "cell_type": "markdown",
   "metadata": {},
   "source": [
    "## Establish paths and variables unique to this analysis"
   ]
  },
  {
   "cell_type": "code",
   "execution_count": 2,
   "metadata": {},
   "outputs": [],
   "source": [
    "yfp_path = '../inputs/gene_selection_yfp_fusion.csv' # Path to YFP fusion data\n",
    "concentration_path = '../inputs/gene_selection_Aebersold_p_conc.csv' # Path to protein concentration data\n",
    "location_path = '../inputs/gene_selection_chromosomal_location.csv' # Path to chromosomal location data\n",
    "essentiality_path = '../inputs/gene_selection_Keio_essential.csv' # Path to essentiality in MOPS data\n",
    "figure_path = '../Figures/' # General path for saving figures\n",
    "\n",
    "date = '20200707' # Date for output files"
   ]
  },
  {
   "cell_type": "markdown",
   "metadata": {},
   "source": [
    "## Import data"
   ]
  },
  {
   "cell_type": "code",
   "execution_count": 3,
   "metadata": {},
   "outputs": [],
   "source": [
    "# Import YFP fusion data\n",
    "df_yfp = pd.read_csv(yfp_path, index_col=0, parse_dates=True)\n",
    "df_yfp.columns = ['Gene', 'Name', 'Class', 'YFP', 'FISH']\n",
    "df_yfp = df_yfp.loc[df_yfp['YFP'] == 1]\n",
    "df_yfp.index = df_yfp['Gene']\n",
    "\n",
    "# Import concentration data\n",
    "df_conc = pd.read_csv(concentration_path, index_col=0, parse_dates=True)\n",
    "df_conc2 = pd.DataFrame()\n",
    "df_conc2['Gene'] = df_conc['Gene']\n",
    "df_conc2['Copy_number'] = df_conc['glucose']\n",
    "df_conc2 = df_conc2.T\n",
    "df_conc2.columns = df_conc2.loc['Gene']\n",
    "df_conc2 = df_conc2.T\n",
    "df_conc2 = df_conc2.replace('below LOQ', -1)\n",
    "df_conc2['Copy_number'] = np.array(df_conc2['Copy_number'], dtype='float')\n",
    "\n",
    "# Import identification database\n",
    "df_database = pd.read_csv(location_path, index_col=0, parse_dates=True)\n",
    "df_database['Location'] = df_database.index\n",
    "df_database.set_index('Gene', inplace=True)\n",
    "\n",
    "# Import essentiality data\n",
    "df_keio = pd.read_csv(essentiality_path, index_col=0, parse_dates=True)\n",
    "df_keio.set_index('Gene', inplace=True)\n",
    "df_keio = df_keio.replace('N.A.', 0) # Replace N.A. MOPS growth with 0 growth.\n",
    "df_keio['MOPS_24hr'] = np.array(df_keio['MOPS_24hr'], dtype='float')\n",
    "\n",
    "# COGs pathway key\n",
    "L2Func = {'E':'Amino Acids Metabolism/Transport', 'D':'Cell Cycle Control/Mitosis', \n",
    "          'F':'Nucleotide Metabolism/Transport', 'I':'Lipid Metabolism', 'J':'Translation', \n",
    "          'M':'Cell wall/membrane/envelope Biogenesis', 'L':'Replication and Repair', 'H':'Coenzyme Metabolism', \n",
    "          'G':'Carbohydrate Metabolism/Transport'}"
   ]
  },
  {
   "cell_type": "code",
   "execution_count": 4,
   "metadata": {},
   "outputs": [],
   "source": [
    "# Merge YFP and copy number data\n",
    "df1 = pd.merge(df_yfp['YFP'], df_conc2['Copy_number'], left_index=True, right_index=True)\n",
    "# Merge df1 with essentiality data in MOPS from Keio\n",
    "df2 = pd.merge(df1, df_keio['MOPS_24hr'], left_index=True, right_index=True)\n",
    "# Merge ID database\n",
    "df3 = pd.merge(df2, df_database, left_index=True, right_index=True)\n",
    "df3 = df3.replace('N.A.', 0) # Replace N.A. MOPS growth rate with 0 growth\n",
    "\n",
    "df_KC = pd.merge(df_keio['MOPS_24hr'], df_database, left_index=True, right_index=True, how='outer')\n",
    "df_KCY = pd.merge(df_KC, df_yfp, left_index=True, right_index=True, how='outer')\n",
    "df_KCYA = pd.merge(df_KCY, df_conc2['Copy_number'], left_index=True, right_index=True, how='outer')\n",
    "\n",
    "del df_KCYA['Product']\n",
    "del df_KCYA['Gene']\n",
    "del df_KCYA['Class']"
   ]
  },
  {
   "cell_type": "markdown",
   "metadata": {},
   "source": [
    "## All proteins with Keio YFP fusions"
   ]
  },
  {
   "cell_type": "code",
   "execution_count": 5,
   "metadata": {},
   "outputs": [
    {
     "data": {
      "image/png": "[encoded data removed]",
      "text/plain": [
       "<Figure size 864x216 with 3 Axes>"
      ]
     },
     "metadata": {
      "needs_background": "light"
     },
     "output_type": "display_data"
    }
   ],
   "source": [
    "Chrom_loc = []\n",
    "for loc in df3['Location']:\n",
    "    Chrom_loc.append(int(loc.split('..')[0]))\n",
    "\n",
    "plt.figure(figsize=(12, 3))\n",
    "plt.subplot(131)\n",
    "plt.hist(df3['MOPS_24hr'], edgecolor='k')\n",
    "plt.xlabel('OD600 @ 24 hours in MOPS', fontsize=12)\n",
    "plt.ylabel('Counts')\n",
    "plt.title('Essentiality based on Keio')\n",
    "plt.xlim(0, 0.65)\n",
    "\n",
    "plt.subplot(132)\n",
    "plt.hist(Chrom_loc, edgecolor='k')\n",
    "plt.xticks([0, 1000000, 2000000, 3000000, 4000000], [0, 1, 2, 3, 4])\n",
    "plt.xlabel('Chromosome location (Millions of BP)', fontsize=12)\n",
    "plt.ylabel('Counts', fontsize=12)\n",
    "plt.title('Location on the chromosome')\n",
    "\n",
    "plt.subplot(133)\n",
    "bins = np.logspace(0, 5, 10)\n",
    "plt.hist(df3['Copy_number'], bins=bins, edgecolor='k')\n",
    "plt.xscale('log')\n",
    "plt.title('Abudance of proteins')\n",
    "plt.xlabel('Protein copies per cell')\n",
    "plt.ylabel('Counts')\n",
    "\n",
    "plt.suptitle('All protein with YFP', y=1.07, fontsize=16)\n",
    "plt.tight_layout()\n",
    "plt.show()"
   ]
  },
  {
   "cell_type": "markdown",
   "metadata": {},
   "source": [
    "## Genes essential in MOPS"
   ]
  },
  {
   "cell_type": "code",
   "execution_count": 6,
   "metadata": {},
   "outputs": [
    {
     "data": {
      "image/png": "[encoded data removed]",
      "text/plain": [
       "<Figure size 864x216 with 3 Axes>"
      ]
     },
     "metadata": {
      "needs_background": "light"
     },
     "output_type": "display_data"
    }
   ],
   "source": [
    "# Pull out genes with no growth in MOPS\n",
    "df4 = df3.loc[(df3['MOPS_24hr'] <= 0.01)]\n",
    "\n",
    "Chrom_loc = []\n",
    "for loc in df4['Location']:\n",
    "    Chrom_loc.append(int(loc.split('..')[0]))\n",
    "\n",
    "plt.figure(figsize=(12, 3))\n",
    "\n",
    "plt.subplot(131)\n",
    "bins = np.arange(0, 0.6, 0.01)\n",
    "plt.hist(df4['MOPS_24hr'], edgecolor='k', bins=bins)\n",
    "plt.xlabel('OD600 @ 24 hours in MOPS', fontsize=12)\n",
    "plt.ylabel('Counts')\n",
    "plt.title('Essentiality based on Keio')\n",
    "plt.xlim(0, 0.65)\n",
    "\n",
    "plt.subplot(132)\n",
    "bins = np.arange(0, 4500000, 300000)\n",
    "plt.hist(Chrom_loc, edgecolor='k', bins=bins)\n",
    "plt.xticks([0, 1000000, 2000000, 3000000, 4000000], [0, 1, 2, 3, 4])\n",
    "plt.xlabel('Chromosome location (Millions of BP)', fontsize=12)\n",
    "plt.ylabel('Counts', fontsize=12)\n",
    "plt.title('Location on the chromosome')\n",
    "\n",
    "plt.subplot(133)\n",
    "bins = np.logspace(0, 5, 10)\n",
    "plt.hist(df4['Copy_number'], bins=bins, edgecolor='k')\n",
    "plt.xscale('log')\n",
    "plt.title('Abudance of proteins')\n",
    "plt.xlabel('Protein copies per cell')\n",
    "plt.ylabel('Counts')\n",
    "\n",
    "plt.suptitle('Essential Genes OD600 < 0.01', y=1.07, fontsize=16)\n",
    "plt.tight_layout()\n",
    "plt.show()"
   ]
  },
  {
   "cell_type": "markdown",
   "metadata": {},
   "source": [
    "## Selecting genes by COG pathway\n",
    "\n",
    "To power any statistical comparisons between genes from different COG pathways, we aim to have at least four genes per included COG pathway. Thus, we bin potential genes by pathways and identify which pathways are represented by at least four genes. These pathways are considered in downstream analysis."
   ]
  },
  {
   "cell_type": "code",
   "execution_count": 7,
   "metadata": {},
   "outputs": [],
   "source": [
    "# Genes selected from pathways\n",
    "folate_genes = ['folA', 'thyA', 'folC', 'glyA', 'gcvH', 'metH', 'metF', 'folD', 'purU', 'purN', 'purT', 'purH', 'fmt']\n",
    "\n",
    "# From Gene Wei-Li lab Cell 2018 for glycolysis selection\n",
    "# Eliminated a few genes that were non essential from this list and had homologues: 'pfkB', 'fbaB'\n",
    "# 'ptsG', 'malX', 'crr' excluded because they are redudant and have no effect on growth\n",
    "gly_genes = ['pgi', 'pfkA', 'fbaA', 'tpiA', 'gapA', 'pgk', 'gpmA', 'eno', 'pykA', 'pykF', 'gpmM']\n",
    "\n",
    "# Combined list of genes from folate metabolism and glycolysis\n",
    "path_genes = folate_genes + gly_genes"
   ]
  },
  {
   "cell_type": "code",
   "execution_count": 8,
   "metadata": {},
   "outputs": [],
   "source": [
    "# Bin the genes by functional process based on cogs\n",
    "func_dict = {}\n",
    "count_dict = {}\n",
    "for gene in df4.index:\n",
    "    if gene not in path_genes:\n",
    "        func = df4['COG'].loc[gene][-1]\n",
    "        if func in func_dict.keys():\n",
    "            func_dict[func].append(gene)\n",
    "            count_dict[func] += 1\n",
    "        else:\n",
    "            func_dict[func] = []\n",
    "            func_dict[func].append(gene)\n",
    "            count_dict[func] = 1"
   ]
  },
  {
   "cell_type": "code",
   "execution_count": 9,
   "metadata": {},
   "outputs": [
    {
     "data": {
      "image/png": "[encoded data removed]",
      "text/plain": [
       "<Figure size 432x288 with 1 Axes>"
      ]
     },
     "metadata": {
      "needs_background": "light"
     },
     "output_type": "display_data"
    }
   ],
   "source": [
    "# For statistical power in downstream analysis, we hope to have >= 4 genes in any included pathway\n",
    "ct = 4 # Minimum number of genes\n",
    "count = 0 # Number of genes in COG pathways with at least ct genes in our set\n",
    "for key in count_dict.keys():\n",
    "    if count_dict[key] > ct:\n",
    "        count += count_dict[key]\n",
    "index = np.arange(len(count_dict.keys()))\n",
    "\n",
    "plt.bar(index, count_dict.values())\n",
    "plt.xticks(index, count_dict.keys())\n",
    "plt.plot(index, [ct]*len(index), '--r', label='Above thres: '+ str(count))\n",
    "plt.legend()\n",
    "plt.tight_layout()\n",
    "plt.show()"
   ]
  },
  {
   "cell_type": "code",
   "execution_count": 17,
   "metadata": {},
   "outputs": [
    {
     "data": {
      "text/plain": [
       "{'C': ['cydA', 'fldA', 'gpsA'],\n",
       " 'D': ['ftsA', 'ftsK', 'mreB', 'mukB', 'mukF'],\n",
       " 'E': ['argG', 'aroB', 'aroE', 'dapB', 'proA', 'serC', 'tyrA'],\n",
       " 'F': ['carA', 'guaA', 'nrdA', 'purA', 'purB', 'purL', 'pyrH'],\n",
       " 'H': ['birA', 'hemH', 'ispA', 'metK', 'nadE', 'pdxH', 'ribB', 'ribF'],\n",
       " 'I': ['acpS',\n",
       "  'fabA',\n",
       "  'fabD',\n",
       "  'fabI',\n",
       "  'fabZ',\n",
       "  'ispE',\n",
       "  'ispF',\n",
       "  'ispG',\n",
       "  'plsB',\n",
       "  'pssA'],\n",
       " 'J': ['aspS',\n",
       "  'cysS',\n",
       "  'fusA',\n",
       "  'glnS',\n",
       "  'hisS',\n",
       "  'infA',\n",
       "  'leuS',\n",
       "  'metG',\n",
       "  'prfA',\n",
       "  'rpsE',\n",
       "  'serS',\n",
       "  'tadA',\n",
       "  'thrS',\n",
       "  'trpS',\n",
       "  'valS'],\n",
       " 'K': ['cysB', 'nusA', 'rpoB'],\n",
       " 'L': ['dnaA',\n",
       "  'dnaB',\n",
       "  'dnaE',\n",
       "  'dnaX',\n",
       "  'gyrA',\n",
       "  'gyrB',\n",
       "  'holB',\n",
       "  'ligA',\n",
       "  'parE',\n",
       "  'topA',\n",
       "  'yqgF'],\n",
       " 'M': ['dapA',\n",
       "  'glmU',\n",
       "  'ispH',\n",
       "  'kdsA',\n",
       "  'kdsB',\n",
       "  'lolA',\n",
       "  'lpxB',\n",
       "  'lpxD',\n",
       "  'murA',\n",
       "  'murB',\n",
       "  'murE',\n",
       "  'murF',\n",
       "  'murG',\n",
       "  'murI'],\n",
       " 'O': ['groS'],\n",
       " 'Q': ['fabB'],\n",
       " 'R': ['obgE'],\n",
       " 'T': ['csrA'],\n",
       " 'U': ['secA'],\n",
       " 'V': ['lolD', 'msbA']}"
      ]
     },
     "execution_count": 17,
     "metadata": {},
     "output_type": "execute_result"
    }
   ],
   "source": [
    "func_dict"
   ]
  },
  {
   "cell_type": "markdown",
   "metadata": {
    "collapsed": true
   },
   "source": [
    "## Filtering from 77 to 64\n",
    "We can titrate 88 genes.  However, 24 of these genes must be from glycolysis and folate metabolism.\n",
    "So, we need to remove 13 genes from the remaining pathways to match our final total of 88.\n",
    "From J (translation) there are 10 tRNA synthetases.  We are going to remove 7 of these at random.\n",
    "From M (cell wall biogensis) we are going to remove 4 random genes.\n",
    "From L (replication and repair) we are going to remove 1 random gene.\n",
    "From I (Lipid metabolism) we are going to remove 1 random gene.\n",
    "Note: As this is done randomly, future executions of this code may not return the genes reported in our paper."
   ]
  },
  {
   "cell_type": "code",
   "execution_count": 10,
   "metadata": {},
   "outputs": [
    {
     "name": "stdout",
     "output_type": "stream",
     "text": [
      "There are 64 genes in trim_dict.\n",
      "There are 88 genes selected for CRISPRi gradients.\n",
      "The number of unique genes in Selected_genes is 88\n"
     ]
    }
   ],
   "source": [
    "trim_dict = {} # Holds the trimmed essential gene list without glycolysis or folate metabolism genes\n",
    "tRNA_syn = ['aspS', 'cysS', 'glnS', 'hisS', 'leuS', 'metG', 'serS', 'thrS', 'trpS', 'valS']\n",
    "\n",
    "for key in func_dict:\n",
    "    if count_dict[key] >= 4:\n",
    "        if key == 'J':\n",
    "            tRNA_rand = random.sample(tRNA_syn, 3)\n",
    "            trim_dict[key] = []\n",
    "            for gene in func_dict[key]:\n",
    "                if gene in tRNA_syn:\n",
    "                    if gene in tRNA_rand:\n",
    "                        trim_dict[key].append(gene)\n",
    "                else:\n",
    "                    trim_dict[key].append(gene)\n",
    "        elif key == 'M':\n",
    "            rand = random.sample(func_dict[key], len(func_dict[key])-4)\n",
    "            trim_dict[key] = []\n",
    "            for gene in func_dict[key]:\n",
    "                if gene in rand:\n",
    "                    trim_dict[key].append(gene)\n",
    "        elif key == 'L':\n",
    "            rand = random.sample(func_dict[key], len(func_dict[key])-1)\n",
    "            trim_dict[key] = []\n",
    "            for gene in func_dict[key]:\n",
    "                if gene in rand:\n",
    "                    trim_dict[key].append(gene)\n",
    "        elif key == 'I':\n",
    "            rand = random.sample(func_dict[key], len(func_dict[key])-1)\n",
    "            trim_dict[key] = []\n",
    "            for gene in func_dict[key]:\n",
    "                if gene in rand:\n",
    "                    trim_dict[key].append(gene)\n",
    "        else:\n",
    "            for gene in func_dict[key]:\n",
    "                if key in trim_dict.keys():\n",
    "                    trim_dict[key].append(gene)\n",
    "                else:\n",
    "                    trim_dict[key] = []\n",
    "                    trim_dict[key].append(gene)\n",
    "\n",
    "# Sanity check\n",
    "print('There are ' + str(len(np.hstack(trim_dict.values()))) + ' genes in trim_dict.')\n",
    "Selected_genes = np.hstack(trim_dict.values() + path_genes)\n",
    "print('There are ' + str(len(np.hstack(Selected_genes))) + ' genes selected for CRISPRi gradients.')\n",
    "print('The number of unique genes in Selected_genes is ' + str(len(set(Selected_genes))))"
   ]
  },
  {
   "cell_type": "code",
   "execution_count": 11,
   "metadata": {},
   "outputs": [],
   "source": [
    "# Dataframe with all the information associated with each selected gene\n",
    "df_select = pd.DataFrame(columns=df_KCYA.columns)\n",
    "for gene in Selected_genes:\n",
    "    if gene in df_KCYA.index:\n",
    "        df_select.loc[gene] = df_KCYA.loc[gene]\n",
    "    else:\n",
    "        print gene"
   ]
  },
  {
   "cell_type": "markdown",
   "metadata": {},
   "source": [
    "## Information about genes selected for gradient CRISPRi\n",
    "\n",
    "Now that 88 genes have been identified, we plot distributions of chromosomal location, expected growth rate of a complete gene knockdown, and copy number. In our data, copy number and chromosomal location are well-distributed. As expected, the vast majority of genes in our set have no measured growth rate in MOPS following complete knockdown."
   ]
  },
  {
   "cell_type": "code",
   "execution_count": 12,
   "metadata": {},
   "outputs": [
    {
     "data": {
      "image/png": "[encoded data removed]",
      "text/plain": [
       "<Figure size 864x216 with 3 Axes>"
      ]
     },
     "metadata": {
      "needs_background": "light"
     },
     "output_type": "display_data"
    }
   ],
   "source": [
    "Chrom_loc = []\n",
    "for loc in df_select['Location']:\n",
    "    Chrom_loc.append(int(loc.split('..')[0]))\n",
    "\n",
    "plt.figure(figsize=(12, 3))\n",
    "plt.subplot(131)\n",
    "bins = np.arange(0, 0.6, 0.03)\n",
    "GR = np.array(df_select['MOPS_24hr'])\n",
    "Mask1 = ~np.isnan(GR)\n",
    "\n",
    "plt.hist(GR[Mask1], edgecolor='k', bins=bins, color='grey')\n",
    "plt.xlabel('OD600 @ 24 hours in MOPS', fontsize=12)\n",
    "plt.ylabel('Counts')\n",
    "plt.title('Essentiality based on Keio')\n",
    "plt.xlim(0, 0.65)\n",
    "\n",
    "plt.subplot(132)\n",
    "bins = np.arange(0, 4500000, 150000)\n",
    "plt.hist(Chrom_loc, edgecolor='k', bins=bins, color='grey')\n",
    "plt.xticks([0, 1000000, 2000000, 3000000, 4000000], [0, 1, 2, 3, 4])\n",
    "plt.xlabel('Chromosome location (Millions of BP)', fontsize=12)\n",
    "plt.ylabel('Counts', fontsize=12)\n",
    "plt.title('Location on the chromosome')\n",
    "\n",
    "plt.subplot(133)\n",
    "bins = np.logspace(0, 4.5, 10)\n",
    "copy = np.array(df_select['Copy_number'])\n",
    "Mask2 = ~np.isnan(copy)\n",
    "plt.hist(copy[Mask2], bins=bins, edgecolor='k', color='grey')\n",
    "plt.xscale('log')\n",
    "plt.title('Abudance of proteins')\n",
    "plt.xlabel('Protein copies per cell')\n",
    "plt.ylabel('Counts')\n",
    "\n",
    "plt.suptitle('Gene selected for gradient CRISPRi', y=1.07, fontsize=16)\n",
    "plt.tight_layout()\n",
    "plt.show()"
   ]
  },
  {
   "cell_type": "markdown",
   "metadata": {},
   "source": [
    "## Chromosomal location"
   ]
  },
  {
   "cell_type": "code",
   "execution_count": 13,
   "metadata": {},
   "outputs": [
    {
     "data": {
      "image/png": "[encoded data removed]",
      "text/plain": [
       "<Figure size 86.4x57.6 with 1 Axes>"
      ]
     },
     "metadata": {
      "needs_background": "light"
     },
     "output_type": "display_data"
    }
   ],
   "source": [
    "# Figure S2A. Note: Random dropping from gene families will likely result in differences between the published figure\n",
    "# and the figure output here.\n",
    "plt.figure(figsize=(1.2, 0.8))\n",
    "bins = np.arange(0, 4500000, 150000)\n",
    "plt.hist(Chrom_loc, edgecolor='grey', bins=bins, color='k', lw=0.25)\n",
    "plt.xticks([0, 1000000, 2000000, 3000000, 4000000], [0, 1, 2, 3, 4], fontsize=6)\n",
    "plt.yticks([0, 4, 8], fontsize=6)\n",
    "plt.savefig(figure_path + date + '_location_FigS2A.pdf', transparent=True)\n",
    "plt.show()"
   ]
  },
  {
   "cell_type": "markdown",
   "metadata": {},
   "source": [
    "## Copy number"
   ]
  },
  {
   "cell_type": "code",
   "execution_count": 14,
   "metadata": {},
   "outputs": [
    {
     "data": {
      "image/png": "[encoded data removed]",
      "text/plain": [
       "<Figure size 100.8x82.8 with 1 Axes>"
      ]
     },
     "metadata": {
      "needs_background": "light"
     },
     "output_type": "display_data"
    }
   ],
   "source": [
    "# Figure S2B. Note: Random dropping from gene families will likely result in differences between the published figure\n",
    "# and the figure output here.\n",
    "plt.figure(figsize=(1.4, 1.15))\n",
    "bins = np.logspace(0, 4.5, 10)\n",
    "copy = np.array(df_select['Copy_number'])\n",
    "Mask2 = ~np.isnan(copy)\n",
    "plt.hist(copy[Mask2], bins=bins, edgecolor='grey', color='k', linewidth=0.25)\n",
    "plt.xscale('log')\n",
    "plt.xticks([1, 10, 100, 1000, 10000], fontsize=6)\n",
    "plt.yticks([0, 10, 20], fontsize=6)\n",
    "plt.tight_layout()\n",
    "plt.savefig(figure_path + date + '_Abundance_FigS2B.pdf', transparent=True)\n",
    "plt.show()"
   ]
  },
  {
   "cell_type": "markdown",
   "metadata": {},
   "source": [
    "## COG Pathway and Essentiality\n",
    "\n",
    "From our initial list of gene candidates, we selected and subsampled genes from a wide range of cellular processes, the majority of which are expected to be essential."
   ]
  },
  {
   "cell_type": "code",
   "execution_count": 15,
   "metadata": {},
   "outputs": [
    {
     "name": "stdout",
     "output_type": "stream",
     "text": [
      "gpmM\n"
     ]
    },
    {
     "data": {
      "image/png": "[encoded data removed]",
      "text/plain": [
       "<Figure size 144x144 with 1 Axes>"
      ]
     },
     "metadata": {},
     "output_type": "display_data"
    }
   ],
   "source": [
    "# Figure 1A\n",
    "# COG Pathway pie chart\n",
    "plt.figure(figsize=(2, 2))\n",
    "pie_func = {}\n",
    "pie_ES = {}\n",
    "pie_ES['Essential'] = 0\n",
    "pie_ES['Nonessential'] = 0\n",
    "for gene in df_select.index:\n",
    "    func = L2Func[df_select['COG'].loc[gene][-1]]\n",
    "    if func in pie_func.keys():\n",
    "        pie_func[func] += 1\n",
    "    else:\n",
    "        pie_func[func] = 1\n",
    "    ES = df_select['MOPS_24hr'].loc[gene]\n",
    "    if ES <= 0.01:\n",
    "        pie_ES['Essential'] +=1\n",
    "    elif ES > 0.01:\n",
    "        pie_ES['Nonessential'] +=1\n",
    "    else:\n",
    "        print gene\n",
    "        pie_ES['Nonessential'] +=1\n",
    "\n",
    "plt.pie(pie_func.values(), labels=pie_func.keys(), wedgeprops={'linewidth': 0.25, 'edgecolor' : 'k'}, \n",
    "        textprops={'fontsize':'12'})\n",
    "plt.tight_layout()\n",
    "plt.savefig(figure_path + date + '_Gene_annotation_Fig1A.pdf', transparent=True)\n",
    "plt.show()"
   ]
  },
  {
   "cell_type": "code",
   "execution_count": 16,
   "metadata": {},
   "outputs": [
    {
     "data": {
      "image/png": "[encoded data removed]",
      "text/plain": [
       "<Figure size 72x72 with 1 Axes>"
      ]
     },
     "metadata": {},
     "output_type": "display_data"
    }
   ],
   "source": [
    "# Essentiality pie chart\n",
    "plt.figure(figsize=(1, 1))\n",
    "plt.pie(pie_ES.values(), labels=pie_ES.keys(), colors=['c', 'grey'], \n",
    "        wedgeprops={'linewidth': 0.25, 'edgecolor' : 'k'}, textprops={'fontsize':'12'})\n",
    "plt.tight_layout()\n",
    "plt.savefig(figure_path + date + '_Essentiality.pdf', transparent=True)\n",
    "plt.show()"
   ]
  },
  {
   "cell_type": "code",
   "execution_count": null,
   "metadata": {},
   "outputs": [],
   "source": []
  }
 ],
 "metadata": {
  "kernelspec": {
   "display_name": "Python 2",
   "language": "python",
   "name": "python2"
  },
  "language_info": {
   "codemirror_mode": {
    "name": "ipython",
    "version": 2
   },
   "file_extension": ".py",
   "mimetype": "text/x-python",
   "name": "python",
   "nbconvert_exporter": "python",
   "pygments_lexer": "ipython2",
   "version": "2.7.15"
  }
 },
 "nbformat": 4,
 "nbformat_minor": 1
}
