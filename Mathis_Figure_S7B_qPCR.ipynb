{
 "cells": [
  {
   "cell_type": "markdown",
   "metadata": {},
   "source": [
    "# Calculating mRNA level following CRISPRi using qPCR - Fig S7\n",
    "\n",
    "This code takes raw qPCR data and converts it to relative mRNA expression level for any gene of interest. This data was gathered by growing cells expressing a single sgRNA in M9 + ATc for 5.5 hours and then isolating cellular mRNA. Relative expression levels calculated through normalization to hcaT with the ΔΔCt method.\n",
    "\n",
    "Written by Ryan Otto \n",
    "\n",
    "Last edited 9/23/2020"
   ]
  },
  {
   "cell_type": "markdown",
   "metadata": {},
   "source": [
    "## Import useful libraries"
   ]
  },
  {
   "cell_type": "code",
   "execution_count": 1,
   "metadata": {},
   "outputs": [],
   "source": [
    "import pickle # Moving data\n",
    "import numpy as np # Data organization\n",
    "import pandas as pd # Data organization\n",
    "import math # Calculating square roots and powers\n",
    "from scipy import stats # Calculating linear regression and sem\n",
    "import matplotlib.pyplot as plt # Plotting function\n",
    "# Renders figures in notebook\n",
    "%matplotlib inline"
   ]
  },
  {
   "cell_type": "markdown",
   "metadata": {},
   "source": [
    "## Establish paths and variables unique to this analysis"
   ]
  },
  {
   "cell_type": "code",
   "execution_count": 2,
   "metadata": {},
   "outputs": [],
   "source": [
    "input_path = 'inputs/' # General path for input files\n",
    "figure_path = 'Figures/' # General path for saving figures\n",
    "df_path = 'outputs/' # General path for data frames\n",
    "\n",
    "# List of all input files containing qPCR data\n",
    "file_list = ['20200806_luna_rtqpcr_quant.csv', '20200813_luna_rtqpcr_quant.csv']\n",
    "\n",
    "# List of all genes to be analyzed, sorted by date of measurement\n",
    "gene_list = {}\n",
    "gene_list['20200806'] = ['hcaT', 'topA', 'ribB']\n",
    "gene_list['20200813'] = ['hcaT', 'ispA', 'mukF', 'tadA']\n",
    "\n",
    "date = '20200923' # Date for output files"
   ]
  },
  {
   "cell_type": "markdown",
   "metadata": {},
   "source": [
    "## Import data"
   ]
  },
  {
   "cell_type": "code",
   "execution_count": 3,
   "metadata": {},
   "outputs": [],
   "source": [
    "cq_dict = {}\n",
    "for file_name in file_list:\n",
    "    file_date = file_name[0:8]\n",
    "    for gene in gene_list[file_date]:\n",
    "        cq_dict[gene] = {}\n",
    "for file_name in file_list:\n",
    "    file_date = file_name[0:8]\n",
    "    for gene in gene_list[file_date]:\n",
    "        if gene != 'hcaT':\n",
    "            cq_dict[gene][gene + '1_C'] = []\n",
    "            cq_dict[gene][gene + '3_C'] = []\n",
    "            cq_dict[gene]['Rand42_' + file_date] = []\n",
    "            cq_dict['hcaT'][gene + '1_C'] = []\n",
    "            cq_dict['hcaT'][gene + '3_C'] = []\n",
    "            cq_dict['hcaT']['Rand42_' + file_date] = []\n",
    "for file_name in file_list:\n",
    "    file_date = file_name[0:8]\n",
    "    with open(input_path + file_name, 'r') as f:\n",
    "        first_line = f.readline()\n",
    "        for line in f:\n",
    "            sp = line.split(',')\n",
    "            if sp[2] != '' and sp[5] != '':\n",
    "                if sp[2] in gene_list[file_date] and sp[4] in cq_dict[sp[2]].keys():\n",
    "                    cq_dict[sp[2]][sp[4]].append(float(sp[5]))"
   ]
  },
  {
   "cell_type": "markdown",
   "metadata": {},
   "source": [
    "## Well Correction\n",
    "\n",
    "Visual inspection of the first replicate of [hcaT] in Rand42 cells from 20200806 permitted exclusion of this value. Two peaks were present in the melt curve, and the amplification curve was irregular. Exclusion of this data point increases standard error of the mean for future values, compensating for this removal."
   ]
  },
  {
   "cell_type": "code",
   "execution_count": 4,
   "metadata": {},
   "outputs": [
    {
     "name": "stdout",
     "output_type": "stream",
     "text": [
      "[21.82825813, 23.48359183, 23.68555433]\n"
     ]
    }
   ],
   "source": [
    "print(cq_dict['hcaT']['Rand42_20200806'])"
   ]
  },
  {
   "cell_type": "code",
   "execution_count": 5,
   "metadata": {},
   "outputs": [],
   "source": [
    "cq_dict['hcaT']['Rand42_20200806'] = [23.48359183, 23.68555433]"
   ]
  },
  {
   "cell_type": "markdown",
   "metadata": {},
   "source": [
    "## Relative Expression Calculations"
   ]
  },
  {
   "cell_type": "code",
   "execution_count": 6,
   "metadata": {},
   "outputs": [],
   "source": [
    "# Find mean and sem of replicate values\n",
    "cq_mean_dict = {}\n",
    "cq_sem_dict = {}\n",
    "for file_name in file_list:\n",
    "    file_date = file_name[0:8]\n",
    "    for gene in gene_list[file_date]:\n",
    "        cq_mean_dict[gene] = {}\n",
    "        cq_sem_dict[gene] = {}\n",
    "        for guide in cq_dict[gene].keys():\n",
    "            # Calculate means for gene of interest and corresponding hcaT abundance\n",
    "            cq_mean_dict[gene][guide] = np.mean(cq_dict[gene][guide])\n",
    "            cq_sem_dict[gene][guide] = stats.sem(cq_dict[gene][guide])\n",
    "# Normalize by hcaT abundance\n",
    "d_cq_mean_dict = {}\n",
    "d_cq_sem_dict = {}\n",
    "for file_name in file_list:\n",
    "    file_date = file_name[0:8]\n",
    "    for gene in gene_list[file_date]:\n",
    "        if gene != 'hcaT':\n",
    "            d_cq_mean_dict[gene] = {}\n",
    "            d_cq_sem_dict[gene] = {}\n",
    "            for guide in cq_mean_dict[gene].keys():\n",
    "                 # Normalize by hcaT abundance\n",
    "                d_cq_mean_dict[gene][guide] = cq_mean_dict['hcaT'][guide] - cq_mean_dict[gene][guide]\n",
    "                d_cq_sem_dict[gene][guide] = math.sqrt(cq_sem_dict['hcaT'][guide]**2 + cq_sem_dict[gene][guide]**2)\n",
    "# Normalize by target transcript abundance without CRISPRi\n",
    "dd_cq_mean_dict = {}\n",
    "dd_cq_sem_dict = {}\n",
    "for file_name in file_list:\n",
    "    file_date = file_name[0:8]\n",
    "    for gene in gene_list[file_date]:\n",
    "        if gene != 'hcaT':\n",
    "            dd_cq_mean_dict[gene] = {}\n",
    "            dd_cq_sem_dict[gene] = {}\n",
    "            for guide in d_cq_mean_dict[gene].keys():\n",
    "                 # Normalize by hcaT abundance\n",
    "                dd_cq_mean_dict[gene][guide] = d_cq_mean_dict[gene][guide] - \\\n",
    "                                               d_cq_mean_dict[gene]['Rand42_' + file_date]\n",
    "                dd_cq_sem_dict[gene][guide] = math.sqrt(d_cq_sem_dict[gene][guide]**2 + \n",
    "                                                        d_cq_sem_dict[gene]['Rand42_' + file_date]**2)\n",
    "# Transform to a linear scale\n",
    "dd_cq_mean_lin_dict = {}\n",
    "dd_cq_sem_lin_dict = {}\n",
    "for file_name in file_list:\n",
    "    file_date = file_name[0:8]\n",
    "    for gene in gene_list[file_date]:\n",
    "        if gene != 'hcaT':\n",
    "            dd_cq_mean_lin_dict[gene] = {}\n",
    "            dd_cq_sem_lin_dict[gene] = {}\n",
    "            for guide in dd_cq_mean_dict[gene].keys():\n",
    "                # Take off of log2 scale\n",
    "                dd_cq_mean_lin_dict[gene][guide] = math.pow(2, dd_cq_mean_dict[gene][guide])\n",
    "                dd_cq_sem_lin_dict[gene][guide] = np.log(2) * dd_cq_sem_dict[gene][guide] * \\\n",
    "                                                  dd_cq_mean_lin_dict[gene][guide]"
   ]
  },
  {
   "cell_type": "markdown",
   "metadata": {},
   "source": [
    "## Gene Expression Plotting"
   ]
  },
  {
   "cell_type": "code",
   "execution_count": 7,
   "metadata": {},
   "outputs": [
    {
     "data": {
      "image/png": "[encoded data removed]",
      "text/plain": [
       "<Figure size 576x576 with 1 Axes>"
      ]
     },
     "metadata": {
      "needs_background": "light"
     },
     "output_type": "display_data"
    }
   ],
   "source": [
    "# Figure S7B\n",
    "fig, ax = plt.subplots(1, 1, figsize=(8, 8))\n",
    "qPCR_mean = []\n",
    "qPCR_sem = []\n",
    "labels = []\n",
    "\n",
    "col = ['black', 'black', 'green', 'green', 'blue', 'blue', 'red', 'red', 'cyan', 'cyan']\n",
    "for file_name in file_list:\n",
    "    file_date = file_name[0:8]\n",
    "    for i, gene in enumerate(gene_list[file_date]):\n",
    "        if gene == 'hcaT': # Ignore normalization measurement\n",
    "            continue\n",
    "        for guide in dd_cq_mean_dict[gene].keys():\n",
    "            if not guide.startswith('Rand42'):\n",
    "                qPCR_mean.append(dd_cq_mean_lin_dict[gene][guide])\n",
    "                qPCR_sem.append(dd_cq_sem_lin_dict[gene][guide])\n",
    "                labels.append(guide)\n",
    "tick_label = labels\n",
    "index = np.arange(len(qPCR_mean))\n",
    "ax.bar(index, qPCR_mean, yerr=qPCR_sem, edgecolor='k', color=col, capsize=3)\n",
    "ax.set_xticks(index)\n",
    "ax.set_xticklabels(tick_label, rotation=90, fontsize=12)\n",
    "ax.set_ylim([0, 1])\n",
    "ax.set_ylabel('Relative gene expression', fontsize=14)\n",
    "ax.set_title('Essential Gene qPCR', fontsize=16)\n",
    "ax.spines['top'].set_visible(False)\n",
    "ax.spines['right'].set_visible(False)\n",
    "plt.tight_layout()\n",
    "plt.savefig(figure_path + date + 'essentials_qPCR_FigS7B.pdf', transparent=True)\n",
    "plt.show()"
   ]
  },
  {
   "cell_type": "code",
   "execution_count": null,
   "metadata": {},
   "outputs": [],
   "source": []
  }
 ],
 "metadata": {
  "kernelspec": {
   "display_name": "Python 2",
   "language": "python",
   "name": "python2"
  },
  "language_info": {
   "codemirror_mode": {
    "name": "ipython",
    "version": 2
   },
   "file_extension": ".py",
   "mimetype": "text/x-python",
   "name": "python",
   "nbconvert_exporter": "python",
   "pygments_lexer": "ipython2",
   "version": "2.7.16"
  }
 },
 "nbformat": 4,
 "nbformat_minor": 2
}
